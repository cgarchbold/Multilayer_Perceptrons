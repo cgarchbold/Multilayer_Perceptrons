{
 "metadata": {
  "language_info": {
   "codemirror_mode": {
    "name": "ipython",
    "version": 3
   },
   "file_extension": ".py",
   "mimetype": "text/x-python",
   "name": "python",
   "nbconvert_exporter": "python",
   "pygments_lexer": "ipython3",
   "version": "3.8.2-final"
  },
  "orig_nbformat": 2,
  "kernelspec": {
   "name": "Python 3.8.2 64-bit ('base': conda)",
   "display_name": "Python 3.8.2 64-bit ('base': conda)",
   "metadata": {
    "interpreter": {
     "hash": "34689079aacdef9d78b6e08fb6c78f42ad1a9bd08a5497abbeed4d2480c4d835"
    }
   }
  }
 },
 "nbformat": 4,
 "nbformat_minor": 2,
 "cells": [
  {
   "cell_type": "code",
   "execution_count": 1,
   "metadata": {},
   "outputs": [],
   "source": [
    "import numpy as np\n",
    "\n",
    "import numpy as np\n",
    "import matplotlib.pyplot as plt \n",
    "import pandas as pd"
   ]
  },
  {
   "cell_type": "code",
   "execution_count": 2,
   "metadata": {},
   "outputs": [],
   "source": [
    "def sigmoid(x, derivative=False):\n",
    "        if derivative:\n",
    "            return sigmoid(x) * (1 - sigmoid(x))\n",
    "        return 1/(1 + np.exp(-x))\n",
    "\n",
    "def ReLU(X, derivative=False):\n",
    "    if derivative:\n",
    "        return np.greater(X, 0).astype(int)\n",
    "    return np.maximum(0,X)\n",
    "\n",
    "    \n",
    "class MNIST_dataset():\n",
    "\n",
    "    def __init__(self, csv_path):\n",
    "        \"\"\"\n",
    "        MNIST_dataset - (csv_path)\n",
    "            - Loads from comma separated values file\n",
    "        \"\"\"\n",
    "        df = pd.read_csv(csv_path)\n",
    "        data = df.to_numpy()\n",
    "\n",
    "        self.classes = data[:,0]\n",
    "        #Normalize\n",
    "        self.images = data[:,1:] / 255.0\n",
    "\n",
    "    def __len__(self):\n",
    "        return len(self.images)\n",
    "\n",
    "    def out_feat(self):\n",
    "        return len(np.unique(self.classes))\n",
    "\n",
    "    def in_feat(self):\n",
    "        return 784\n",
    "\n",
    "    def __getitem__(self,idx):\n",
    "        return {'image': self.images[idx],'class': self.classes[idx]}\n",
    "\n",
    "    def plot(self, idx):\n",
    "        f = plt.figure()\n",
    "        sp = f.add_subplot(111)\n",
    "\n",
    "        #gather data from row\n",
    "        data = self.__getitem__(idx)\n",
    "        label = data['class']\n",
    "        pixels = data['image']\n",
    "\n",
    "        #interpret one dimensional array as image\n",
    "        pixels = pixels.reshape((28,28))\n",
    "\n",
    "        #set label, show image\n",
    "        sp.set_title(f'Label is {label}')\n",
    "        sp.imshow(pixels)#cmap ='gray')\n",
    "\n",
    "        return f"
   ]
  },
  {
   "cell_type": "code",
   "execution_count": 3,
   "metadata": {},
   "outputs": [],
   "source": [
    "mnist_train1 = MNIST_dataset('./data/mnist_train_0_1.csv')\n",
    "mnist_test1 = MNIST_dataset('./data/mnist_test_0_1.csv')"
   ]
  },
  {
   "cell_type": "code",
   "execution_count": 4,
   "metadata": {},
   "outputs": [],
   "source": [
    "sizes = [784, 60, 1]\n",
    "\n",
    "np.random.seed(2)\n",
    "#Define weights\n",
    "W1 = np.random.rand(sizes[1], sizes[0])\n",
    "W2 = np.random.rand(sizes[2], sizes[1])\n",
    "\n",
    "b1 = np.random.rand(sizes[1])\n",
    "b2 = np.random.rand(1)"
   ]
  },
  {
   "cell_type": "code",
   "execution_count": 5,
   "metadata": {
    "tags": []
   },
   "outputs": [
    {
     "output_type": "error",
     "ename": "ValueError",
     "evalue": "matmul: Input operand 1 has a mismatch in its core dimension 0, with gufunc signature (n?,k),(k,m?)->(n?,m?) (size 60 is different from 1)",
     "traceback": [
      "\u001b[0;31m---------------------------------------------------------------------------\u001b[0m",
      "\u001b[0;31mValueError\u001b[0m                                Traceback (most recent call last)",
      "\u001b[0;32m<ipython-input-5-af869adbe016>\u001b[0m in \u001b[0;36m<module>\u001b[0;34m\u001b[0m\n\u001b[1;32m     21\u001b[0m     \u001b[0;31m#print(I2)\u001b[0m\u001b[0;34m\u001b[0m\u001b[0;34m\u001b[0m\u001b[0;34m\u001b[0m\u001b[0m\n\u001b[1;32m     22\u001b[0m \u001b[0;34m\u001b[0m\u001b[0m\n\u001b[0;32m---> 23\u001b[0;31m     \u001b[0merror\u001b[0m \u001b[0;34m=\u001b[0m \u001b[0mnp\u001b[0m\u001b[0;34m.\u001b[0m\u001b[0mmatmul\u001b[0m\u001b[0;34m(\u001b[0m\u001b[0merror\u001b[0m\u001b[0;34m,\u001b[0m \u001b[0mA1\u001b[0m\u001b[0;34m.\u001b[0m\u001b[0mT\u001b[0m\u001b[0;34m)\u001b[0m\u001b[0;34m\u001b[0m\u001b[0;34m\u001b[0m\u001b[0m\n\u001b[0m\u001b[1;32m     24\u001b[0m     \u001b[0mDW2\u001b[0m \u001b[0;34m=\u001b[0m \u001b[0mnp\u001b[0m\u001b[0;34m.\u001b[0m\u001b[0mouter\u001b[0m\u001b[0;34m(\u001b[0m\u001b[0merror\u001b[0m\u001b[0;34m,\u001b[0m \u001b[0mA1\u001b[0m\u001b[0;34m)\u001b[0m\u001b[0;34m\u001b[0m\u001b[0;34m\u001b[0m\u001b[0m\n\u001b[1;32m     25\u001b[0m \u001b[0;34m\u001b[0m\u001b[0m\n",
      "\u001b[0;31mValueError\u001b[0m: matmul: Input operand 1 has a mismatch in its core dimension 0, with gufunc signature (n?,k),(k,m?)->(n?,m?) (size 60 is different from 1)"
     ]
    }
   ],
   "source": [
    "\n",
    "lr = 1\n",
    "\n",
    "for index in range(len(mnist_train1)):\n",
    "\n",
    "    label = mnist_train1[index]['class']\n",
    "    pixels = mnist_train1[index]['image']\n",
    "\n",
    "    A0 = np.array(pixels)\n",
    "\n",
    "    #print(A0)\n",
    "\n",
    "    #forward\n",
    "    I1 = np.matmul(W1, A0) + b1\n",
    "    A1 = ReLU(I1)\n",
    "    I2 = np.matmul(W2, A1) + b2\n",
    "    A2 = sigmoid(I2)\n",
    "\n",
    "    #backprop\n",
    "    error = A2 - label\n",
    "\n",
    "    #print(I2)\n",
    "\n",
    "    error = np.matmul(error, A1.T)\n",
    "    DW2 = np.outer(error, A1)\n",
    "    \n",
    "    error = np.dot(W2.T, error) * ReLU(I1, derivative=True)\n",
    "    DW1 = np.outer(error, A0)\n",
    "\n",
    "    print(DW1)\n",
    "    print(DW2)\n",
    "\n",
    "    W2 = W2 - lr * DW2\n",
    "    W1 = W1 - lr * DW1\n",
    "\n"
   ]
  },
  {
   "cell_type": "code",
   "execution_count": null,
   "metadata": {},
   "outputs": [],
   "source": []
  }
 ]
}